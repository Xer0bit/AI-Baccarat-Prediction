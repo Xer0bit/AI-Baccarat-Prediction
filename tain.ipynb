{
 "cells": [
  {
   "cell_type": "code",
   "execution_count": 1,
   "metadata": {},
   "outputs": [
    {
     "data": {
      "text/html": [
       "<div>\n",
       "<style scoped>\n",
       "    .dataframe tbody tr th:only-of-type {\n",
       "        vertical-align: middle;\n",
       "    }\n",
       "\n",
       "    .dataframe tbody tr th {\n",
       "        vertical-align: top;\n",
       "    }\n",
       "\n",
       "    .dataframe thead th {\n",
       "        text-align: right;\n",
       "    }\n",
       "</style>\n",
       "<table border=\"1\" class=\"dataframe\">\n",
       "  <thead>\n",
       "    <tr style=\"text-align: right;\">\n",
       "      <th></th>\n",
       "      <th>round_id</th>\n",
       "      <th>previous_winners</th>\n",
       "      <th>current_winner</th>\n",
       "      <th>card_sequence.Banker</th>\n",
       "      <th>card_sequence.Player</th>\n",
       "      <th>scores.Banker</th>\n",
       "      <th>scores.Player</th>\n",
       "    </tr>\n",
       "  </thead>\n",
       "  <tbody>\n",
       "    <tr>\n",
       "      <th>0</th>\n",
       "      <td>1</td>\n",
       "      <td>[]</td>\n",
       "      <td>Player</td>\n",
       "      <td>[4C, 7D]</td>\n",
       "      <td>[QD, 2H]</td>\n",
       "      <td>1</td>\n",
       "      <td>2</td>\n",
       "    </tr>\n",
       "    <tr>\n",
       "      <th>1</th>\n",
       "      <td>2</td>\n",
       "      <td>[Player]</td>\n",
       "      <td>Banker</td>\n",
       "      <td>[2C, 6C]</td>\n",
       "      <td>[QS, AC]</td>\n",
       "      <td>8</td>\n",
       "      <td>1</td>\n",
       "    </tr>\n",
       "    <tr>\n",
       "      <th>2</th>\n",
       "      <td>3</td>\n",
       "      <td>[Player, Banker]</td>\n",
       "      <td>Banker</td>\n",
       "      <td>[2S, 3D]</td>\n",
       "      <td>[QH, JH]</td>\n",
       "      <td>5</td>\n",
       "      <td>0</td>\n",
       "    </tr>\n",
       "    <tr>\n",
       "      <th>3</th>\n",
       "      <td>4</td>\n",
       "      <td>[Player, Banker, Banker]</td>\n",
       "      <td>Banker</td>\n",
       "      <td>[AC, 7H]</td>\n",
       "      <td>[8C, 9D]</td>\n",
       "      <td>8</td>\n",
       "      <td>7</td>\n",
       "    </tr>\n",
       "    <tr>\n",
       "      <th>4</th>\n",
       "      <td>5</td>\n",
       "      <td>[Player, Banker, Banker, Banker]</td>\n",
       "      <td>Player</td>\n",
       "      <td>[7D, 4C]</td>\n",
       "      <td>[AS, 4D]</td>\n",
       "      <td>1</td>\n",
       "      <td>5</td>\n",
       "    </tr>\n",
       "  </tbody>\n",
       "</table>\n",
       "</div>"
      ],
      "text/plain": [
       "   round_id                  previous_winners current_winner  \\\n",
       "0         1                                []         Player   \n",
       "1         2                          [Player]         Banker   \n",
       "2         3                  [Player, Banker]         Banker   \n",
       "3         4          [Player, Banker, Banker]         Banker   \n",
       "4         5  [Player, Banker, Banker, Banker]         Player   \n",
       "\n",
       "  card_sequence.Banker card_sequence.Player  scores.Banker  scores.Player  \n",
       "0             [4C, 7D]             [QD, 2H]              1              2  \n",
       "1             [2C, 6C]             [QS, AC]              8              1  \n",
       "2             [2S, 3D]             [QH, JH]              5              0  \n",
       "3             [AC, 7H]             [8C, 9D]              8              7  \n",
       "4             [7D, 4C]             [AS, 4D]              1              5  "
      ]
     },
     "execution_count": 1,
     "metadata": {},
     "output_type": "execute_result"
    }
   ],
   "source": [
    "import json\n",
    "import pandas as pd\n",
    "from sklearn.model_selection import train_test_split\n",
    "from sklearn.linear_model import LogisticRegression\n",
    "from sklearn.metrics import accuracy_score\n",
    "\n",
    "# Load the dataset\n",
    "with open('dataset/baccarat_dataset.json') as f:\n",
    "    data = json.load(f)\n",
    "\n",
    "# Convert the data into a DataFrame\n",
    "df = pd.json_normalize(data)\n",
    "\n",
    "# Display the first few rows of the DataFrame to understand its structure\n",
    "df.head()"
   ]
  },
  {
   "cell_type": "code",
   "execution_count": 2,
   "metadata": {},
   "outputs": [],
   "source": [
    "records = []\n",
    "for round in data:\n",
    "    if round['previous_winners']:\n",
    "        features = [1 if winner == 'Player' else 0 if winner == 'Banker' else 2 for winner in round['previous_winners']]\n",
    "        features += [0] * (10 - len(features))  # Padding to ensure fixed length\n",
    "        label = 1 if round['current_winner'] == 'Player' else 0 if round['current_winner'] == 'Banker' else 2\n",
    "        records.append(features + [label])\n",
    "\n",
    "# Convert to DataFrame\n",
    "columns = [f'previous_winner_{i+1}' for i in range(10)] + ['current_winner']\n",
    "df = pd.DataFrame(records, columns=columns)\n",
    "\n",
    "# Split the data into features and labels\n",
    "X = df.drop('current_winner', axis=1)\n",
    "y = df['current_winner']"
   ]
  },
  {
   "cell_type": "code",
   "execution_count": 3,
   "metadata": {},
   "outputs": [
    {
     "name": "stdout",
     "output_type": "stream",
     "text": [
      "Model Accuracy: 47.50%\n"
     ]
    },
    {
     "name": "stderr",
     "output_type": "stream",
     "text": [
      "C:\\Users\\Administrator\\AppData\\Local\\Packages\\PythonSoftwareFoundation.Python.3.12_qbz5n2kfra8p0\\LocalCache\\local-packages\\Python312\\site-packages\\sklearn\\linear_model\\_logistic.py:1247: FutureWarning: 'multi_class' was deprecated in version 1.5 and will be removed in 1.7. From then on, it will always use 'multinomial'. Leave it to its default value to avoid this warning.\n",
      "  warnings.warn(\n"
     ]
    }
   ],
   "source": [
    "# Train-test split\n",
    "X_train, X_test, y_train, y_test = train_test_split(X, y, test_size=0.2, random_state=42)\n",
    "\n",
    "# Train the model\n",
    "model = LogisticRegression(max_iter=1000, multi_class='multinomial')\n",
    "model.fit(X_train, y_train)\n",
    "\n",
    "# Evaluate the model\n",
    "y_pred = model.predict(X_test)\n",
    "accuracy = accuracy_score(y_test, y_pred)\n",
    "\n",
    "print(f'Model Accuracy: {accuracy * 100:.2f}%')"
   ]
  },
  {
   "cell_type": "code",
   "execution_count": 4,
   "metadata": {},
   "outputs": [
    {
     "name": "stdout",
     "output_type": "stream",
     "text": [
      "Predicted Winner Probabilities:\n",
      "Player: 39.27%\n",
      "Banker: 41.19%\n",
      "Tie: 19.54%\n"
     ]
    }
   ],
   "source": [
    "# Example previous winners sequence\n",
    "previous_winners = ['Player', 'Banker', 'Player', 'Tie', 'Banker', 'Player', 'Player', 'Player', 'Banker', 'Player']\n",
    "features = [1 if winner == 'Player' else 0 if winner == 'Banker' else 2 for winner in previous_winners]\n",
    "features += [0] * (10 - len(features))  # Padding to ensure fixed length\n",
    "\n",
    "\n",
    "# Convert to DataFrame\n",
    "new_data = pd.DataFrame([features], columns=[f'previous_winner_{i+1}' for i in range(10)])\n",
    "\n",
    "# Predict probabilities\n",
    "prediction_probabilities = model.predict_proba(new_data)[0]\n",
    "winner_probabilities = {\n",
    "    'Player': prediction_probabilities[1],\n",
    "    'Banker': prediction_probabilities[0],\n",
    "    'Tie': prediction_probabilities[2]\n",
    "}\n",
    "\n",
    "print('Predicted Winner Probabilities:')\n",
    "print(f\"Player: {winner_probabilities['Player'] * 100:.2f}%\")\n",
    "print(f\"Banker: {winner_probabilities['Banker'] * 100:.2f}%\")\n",
    "print(f\"Tie: {winner_probabilities['Tie'] * 100:.2f}%\")"
   ]
  },
  {
   "cell_type": "code",
   "execution_count": 5,
   "metadata": {},
   "outputs": [
    {
     "data": {
      "text/plain": [
       "['baccarat_model.pkl']"
      ]
     },
     "execution_count": 5,
     "metadata": {},
     "output_type": "execute_result"
    }
   ],
   "source": [
    "#save the model\n",
    "import joblib\n",
    "joblib.dump(model, 'baccarat_model.pkl')\n",
    "\n"
   ]
  },
  {
   "cell_type": "code",
   "execution_count": 6,
   "metadata": {},
   "outputs": [
    {
     "name": "stdout",
     "output_type": "stream",
     "text": [
      "Predicted Winner Probabilities:\n",
      "Player: 39.27%\n",
      "Banker: 41.19%\n",
      "Tie: 19.54%\n"
     ]
    }
   ],
   "source": [
    "#load the model\n",
    "model = joblib.load('baccarat_model.pkl')\n",
    "prediction_probabilities = model.predict_proba(new_data)[0]\n",
    "winner_probabilities = {\n",
    "    'Player': prediction_probabilities[1],\n",
    "    'Banker': prediction_probabilities[0],\n",
    "    'Tie': prediction_probabilities[2]\n",
    "}\n",
    "\n",
    "print('Predicted Winner Probabilities:')\n",
    "print(f\"Player: {winner_probabilities['Player'] * 100:.2f}%\")\n",
    "print(f\"Banker: {winner_probabilities['Banker'] * 100:.2f}%\")\n",
    "print(f\"Tie: {winner_probabilities['Tie'] * 100:.2f}%\")\n"
   ]
  }
 ],
 "metadata": {
  "kernelspec": {
   "display_name": "Python 3",
   "language": "python",
   "name": "python3"
  },
  "language_info": {
   "codemirror_mode": {
    "name": "ipython",
    "version": 3
   },
   "file_extension": ".py",
   "mimetype": "text/x-python",
   "name": "python",
   "nbconvert_exporter": "python",
   "pygments_lexer": "ipython3",
   "version": "3.12.4"
  }
 },
 "nbformat": 4,
 "nbformat_minor": 2
}
